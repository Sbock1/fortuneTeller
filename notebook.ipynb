{
 "cells": [
  {
   "cell_type": "code",
   "execution_count": 1,
   "metadata": {},
   "outputs": [],
   "source": [
    "import get_information_lib as gil\n",
    "from alpha_vantage.fundamentaldata import FundamentalData\n",
    "import pandas as pd\n",
    "import time\n",
    "\n",
    "################################################################## \n",
    "# Global variables based on API requirements\n",
    "API_key=\"HNNMDBOG55BREC5P\" #Account API key to validate access\n",
    "time_delay = 18 #Can only laod on dataset per 18 seconds\n",
    "FundamentalDataAPIPull = FundamentalData(API_key,output_format='pandas')\n",
    "##################################################################"
   ]
  },
  {
   "cell_type": "code",
   "execution_count": 3,
   "metadata": {},
   "outputs": [],
   "source": [
    "symbol_list = gil.loadOneColumnRowDataAsList(\"Stock_symbols_list.xlsx\", \"Tabelle1\", \"A\")"
   ]
  },
  {
   "cell_type": "code",
   "execution_count": 4,
   "metadata": {},
   "outputs": [
    {
     "data": {
      "text/plain": [
       "list"
      ]
     },
     "execution_count": 4,
     "metadata": {},
     "output_type": "execute_result"
    }
   ],
   "source": [
    "type(symbol_list)"
   ]
  },
  {
   "cell_type": "code",
   "execution_count": 5,
   "metadata": {},
   "outputs": [],
   "source": [
    "MSFTStock = FundamentalDataAPIPull.get_company_overview(\"MSFT\")[0]"
   ]
  },
  {
   "cell_type": "code",
   "execution_count": 6,
   "metadata": {},
   "outputs": [
    {
     "data": {
      "text/html": [
       "<div>\n",
       "<style scoped>\n",
       "    .dataframe tbody tr th:only-of-type {\n",
       "        vertical-align: middle;\n",
       "    }\n",
       "\n",
       "    .dataframe tbody tr th {\n",
       "        vertical-align: top;\n",
       "    }\n",
       "\n",
       "    .dataframe thead th {\n",
       "        text-align: right;\n",
       "    }\n",
       "</style>\n",
       "<table border=\"1\" class=\"dataframe\">\n",
       "  <thead>\n",
       "    <tr style=\"text-align: right;\">\n",
       "      <th></th>\n",
       "      <th>Symbol</th>\n",
       "      <th>AssetType</th>\n",
       "      <th>Name</th>\n",
       "      <th>Description</th>\n",
       "      <th>CIK</th>\n",
       "      <th>Exchange</th>\n",
       "      <th>Currency</th>\n",
       "      <th>Country</th>\n",
       "      <th>Sector</th>\n",
       "      <th>Industry</th>\n",
       "      <th>...</th>\n",
       "      <th>EVToRevenue</th>\n",
       "      <th>EVToEBITDA</th>\n",
       "      <th>Beta</th>\n",
       "      <th>52WeekHigh</th>\n",
       "      <th>52WeekLow</th>\n",
       "      <th>50DayMovingAverage</th>\n",
       "      <th>200DayMovingAverage</th>\n",
       "      <th>SharesOutstanding</th>\n",
       "      <th>DividendDate</th>\n",
       "      <th>ExDividendDate</th>\n",
       "    </tr>\n",
       "  </thead>\n",
       "  <tbody>\n",
       "    <tr>\n",
       "      <th>None</th>\n",
       "      <td>MSFT</td>\n",
       "      <td>Common Stock</td>\n",
       "      <td>Microsoft Corporation</td>\n",
       "      <td>Microsoft Corporation is an American multinati...</td>\n",
       "      <td>789019</td>\n",
       "      <td>NASDAQ</td>\n",
       "      <td>USD</td>\n",
       "      <td>USA</td>\n",
       "      <td>TECHNOLOGY</td>\n",
       "      <td>SERVICES-PREPACKAGED SOFTWARE</td>\n",
       "      <td>...</td>\n",
       "      <td>14.28</td>\n",
       "      <td>26.45</td>\n",
       "      <td>0.894</td>\n",
       "      <td>468.35</td>\n",
       "      <td>307.7</td>\n",
       "      <td>433.18</td>\n",
       "      <td>395.61</td>\n",
       "      <td>7432310000</td>\n",
       "      <td>2024-09-12</td>\n",
       "      <td>2024-08-15</td>\n",
       "    </tr>\n",
       "  </tbody>\n",
       "</table>\n",
       "<p>1 rows × 51 columns</p>\n",
       "</div>"
      ],
      "text/plain": [
       "     Symbol     AssetType                   Name  \\\n",
       "None   MSFT  Common Stock  Microsoft Corporation   \n",
       "\n",
       "                                            Description     CIK Exchange  \\\n",
       "None  Microsoft Corporation is an American multinati...  789019   NASDAQ   \n",
       "\n",
       "     Currency Country      Sector                       Industry  ...  \\\n",
       "None      USD     USA  TECHNOLOGY  SERVICES-PREPACKAGED SOFTWARE  ...   \n",
       "\n",
       "     EVToRevenue EVToEBITDA   Beta 52WeekHigh 52WeekLow 50DayMovingAverage  \\\n",
       "None       14.28      26.45  0.894     468.35     307.7             433.18   \n",
       "\n",
       "     200DayMovingAverage SharesOutstanding DividendDate ExDividendDate  \n",
       "None              395.61        7432310000   2024-09-12     2024-08-15  \n",
       "\n",
       "[1 rows x 51 columns]"
      ]
     },
     "execution_count": 6,
     "metadata": {},
     "output_type": "execute_result"
    }
   ],
   "source": [
    "MSFTStock"
   ]
  },
  {
   "cell_type": "code",
   "execution_count": 7,
   "metadata": {},
   "outputs": [],
   "source": [
    "lastColumnName = MSFTStock.notna().any().index[-1]"
   ]
  },
  {
   "cell_type": "code",
   "execution_count": 8,
   "metadata": {},
   "outputs": [
    {
     "data": {
      "text/plain": [
       "'ExDividendDate'"
      ]
     },
     "execution_count": 8,
     "metadata": {},
     "output_type": "execute_result"
    }
   ],
   "source": [
    "lastColumnName"
   ]
  },
  {
   "cell_type": "code",
   "execution_count": 9,
   "metadata": {},
   "outputs": [
    {
     "data": {
      "text/plain": [
       "50"
      ]
     },
     "execution_count": 9,
     "metadata": {},
     "output_type": "execute_result"
    }
   ],
   "source": [
    "MSFTStock.columns.get_loc(lastColumnName)"
   ]
  },
  {
   "cell_type": "code",
   "execution_count": 10,
   "metadata": {},
   "outputs": [],
   "source": [
    "A = [\"A\", \"AAA\", \"BA\", \"XD\"]\n",
    "B = [\"A\", \"BA\"]\n",
    "C = [\"A\", \"XXX\", \"ZZZ\"]"
   ]
  },
  {
   "cell_type": "code",
   "execution_count": 11,
   "metadata": {},
   "outputs": [
    {
     "data": {
      "text/plain": [
       "['AAA', 'XD']"
      ]
     },
     "execution_count": 11,
     "metadata": {},
     "output_type": "execute_result"
    }
   ],
   "source": [
    "list, list1 = gil.compare(A,B,C)"
   ]
  },
  {
   "cell_type": "code",
   "execution_count": null,
   "metadata": {},
   "outputs": [],
   "source": []
  }
 ],
 "metadata": {
  "kernelspec": {
   "display_name": "Python 3",
   "language": "python",
   "name": "python3"
  },
  "language_info": {
   "codemirror_mode": {
    "name": "ipython",
    "version": 3
   },
   "file_extension": ".py",
   "mimetype": "text/x-python",
   "name": "python",
   "nbconvert_exporter": "python",
   "pygments_lexer": "ipython3",
   "version": "3.12.4"
  }
 },
 "nbformat": 4,
 "nbformat_minor": 2
}
