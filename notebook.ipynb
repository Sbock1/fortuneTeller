{
 "cells": [
  {
   "cell_type": "code",
   "execution_count": 1,
   "metadata": {},
   "outputs": [],
   "source": [
    "import get_information_lib as gil\n",
    "from alpha_vantage.fundamentaldata import FundamentalData\n",
    "import pandas as pd\n",
    "import time\n",
    "\n",
    "################################################################## \n",
    "# Global variables based on API requirements\n",
    "API_key=\"HNNMDBOG55BREC5P\" #Account API key to validate access\n",
    "time_delay = 1 #Can only laod on dataset per 18 seconds\n",
    "FundamentalDataAPIPull = FundamentalData(API_key,output_format='pandas')\n",
    "# IMPORTANT:\n",
    "# The AlphaVantage API documentation can be found here:\n",
    "# https://www.alphavantage.co/documentation/\n",
    "##################################################################\n"
   ]
  },
  {
   "cell_type": "code",
   "execution_count": 2,
   "metadata": {},
   "outputs": [],
   "source": [
    "list1 = gil.loadOneColumnRowDataAsList(\"Stock_symbols_list.xlsx\", sheetname=\"Tabelle1\" ,column=\"A\")"
   ]
  },
  {
   "cell_type": "code",
   "execution_count": 7,
   "metadata": {},
   "outputs": [
    {
     "data": {
      "text/plain": [
       "['A',\n",
       " 'AA',\n",
       " 'AACG',\n",
       " 'AACI',\n",
       " 'AACIW',\n",
       " 'AACT',\n",
       " 'AADI',\n",
       " 'AAGR',\n",
       " 'AAGRW',\n",
       " 'AAL',\n",
       " 'AAMC',\n",
       " 'AAME',\n",
       " 'AAN',\n",
       " 'AAOI',\n",
       " 'AAON',\n",
       " 'AAP',\n",
       " 'AAPL',\n",
       " 'AAT',\n",
       " 'AB',\n",
       " 'ABAT',\n",
       " 'ABBV',\n",
       " 'ABCB',\n",
       " 'ABCL',\n",
       " 'ABEO',\n",
       " 'ABEV',\n",
       " 'ABG',\n",
       " 'ABIO',\n",
       " 'ABL',\n",
       " 'ABLLL',\n",
       " 'ABLLW',\n",
       " 'ABLV',\n",
       " 'ABLVW',\n",
       " 'ABM',\n",
       " 'ABNB',\n",
       " 'ABOS',\n",
       " 'ABR',\n",
       " 'ABSI',\n",
       " 'ABT',\n",
       " 'ABTS',\n",
       " 'ABUS',\n",
       " 'ABVC',\n",
       " 'ABVX',\n",
       " 'AC',\n",
       " 'ACA',\n",
       " 'ACAB',\n",
       " 'ACABU',\n",
       " 'ACABW',\n",
       " 'ACAC',\n",
       " 'ACACU',\n",
       " 'ACACW',\n",
       " 'ACAD',\n",
       " 'ACB',\n",
       " 'ACCD',\n",
       " 'ACCO',\n",
       " 'ACDC',\n",
       " 'ACEL',\n",
       " 'ACET',\n",
       " 'ACGL',\n",
       " 'ACGLN',\n",
       " 'ACGLO',\n",
       " 'ACHC',\n",
       " 'ACHL',\n",
       " 'ACHR',\n",
       " 'ACHV',\n",
       " 'ACI',\n",
       " 'ACIC',\n",
       " 'ACIU',\n",
       " 'ACIW',\n",
       " 'ACLS',\n",
       " 'ACLX',\n",
       " 'ACM',\n",
       " 'ACMR',\n",
       " 'ACN',\n",
       " 'ACNB',\n",
       " 'ACNT',\n",
       " 'ACON',\n",
       " 'ACONW',\n",
       " 'ACP',\n",
       " 'ACR',\n",
       " 'ACRE',\n",
       " 'ACRS',\n",
       " 'ACRV',\n",
       " 'ACST',\n",
       " 'ACT',\n",
       " 'ACTG',\n",
       " 'ACU',\n",
       " 'ACV',\n",
       " 'ACVA',\n",
       " 'ACXP',\n",
       " 'ADAG',\n",
       " 'ADAP',\n",
       " 'ADBE',\n",
       " 'ADC',\n",
       " 'ADCT',\n",
       " 'ADD',\n",
       " 'ADEA',\n",
       " 'ADI',\n",
       " 'ADIL',\n",
       " 'ADM',\n",
       " 'ADMA',\n",
       " 'ADN']"
      ]
     },
     "execution_count": 7,
     "metadata": {},
     "output_type": "execute_result"
    }
   ],
   "source": [
    "list1[0:-6700]"
   ]
  },
  {
   "cell_type": "code",
   "execution_count": 9,
   "metadata": {},
   "outputs": [],
   "source": [
    "stockBalanceData = FundamentalDataAPIPull.get_balance_sheet_quarterly(\"MSFT\")[0]"
   ]
  },
  {
   "cell_type": "code",
   "execution_count": 6,
   "metadata": {},
   "outputs": [],
   "source": [
    "mainSheetDataframe, excelSymbolsExisting, excelQuartersExisting = gil.readFromDataBase(\"Overview\")"
   ]
  },
  {
   "cell_type": "code",
   "execution_count": 10,
   "metadata": {},
   "outputs": [],
   "source": [
    "stockOverviewData = FundamentalDataAPIPull.get_company_overview(\"MSFT\")[0] "
   ]
  },
  {
   "cell_type": "code",
   "execution_count": 8,
   "metadata": {},
   "outputs": [
    {
     "data": {
      "text/plain": [
       "['AAMC']"
      ]
     },
     "execution_count": 8,
     "metadata": {},
     "output_type": "execute_result"
    }
   ],
   "source": [
    "excelSymbolsExisting"
   ]
  },
  {
   "cell_type": "code",
   "execution_count": 9,
   "metadata": {},
   "outputs": [],
   "source": [
    "gil.deleteNoneUpdatableSymbols(list1, list2)"
   ]
  },
  {
   "cell_type": "code",
   "execution_count": null,
   "metadata": {},
   "outputs": [],
   "source": []
  }
 ],
 "metadata": {
  "kernelspec": {
   "display_name": "Python 3",
   "language": "python",
   "name": "python3"
  },
  "language_info": {
   "codemirror_mode": {
    "name": "ipython",
    "version": 3
   },
   "file_extension": ".py",
   "mimetype": "text/x-python",
   "name": "python",
   "nbconvert_exporter": "python",
   "pygments_lexer": "ipython3",
   "version": "3.12.4"
  }
 },
 "nbformat": 4,
 "nbformat_minor": 2
}
