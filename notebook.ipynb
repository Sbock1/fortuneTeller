{
 "cells": [
  {
   "cell_type": "code",
   "execution_count": 1,
   "metadata": {},
   "outputs": [],
   "source": [
    "import get_information_lib as gil\n",
    "from alpha_vantage.fundamentaldata import FundamentalData\n",
    "import pandas as pd\n",
    "import time\n",
    "\n",
    "################################################################## \n",
    "# Global variables based on API requirements\n",
    "API_key=\"HNNMDBOG55BREC5P\" #Account API key to validate access\n",
    "time_delay = 18 #Can only laod on dataset per 18 seconds\n",
    "FundamentalDataAPIPull = FundamentalData(API_key,output_format='pandas')\n",
    "# IMPORTANT:\n",
    "# The AlphaVantage API documentation can be found here:\n",
    "# https://www.alphavantage.co/documentation/\n",
    "##################################################################\n"
   ]
  },
  {
   "cell_type": "code",
   "execution_count": 4,
   "metadata": {},
   "outputs": [],
   "source": [
    "actual_symbol_list = gil.loadOneColumnRowDataAsList(\"Stock_symbols_list.xlsx\", \"Tabelle1\", \"A\")\n"
   ]
  },
  {
   "cell_type": "code",
   "execution_count": 5,
   "metadata": {},
   "outputs": [],
   "source": [
    "actual_symbol_list_modified = actual_symbol_list[0:2]"
   ]
  },
  {
   "cell_type": "code",
   "execution_count": 6,
   "metadata": {},
   "outputs": [],
   "source": [
    "actual_symbol_list_modified = actual_symbol_list_modified + [\"DVDV\"]"
   ]
  },
  {
   "cell_type": "code",
   "execution_count": 7,
   "metadata": {},
   "outputs": [
    {
     "data": {
      "text/plain": [
       "['A', 'AA', 'DVDV']"
      ]
     },
     "execution_count": 7,
     "metadata": {},
     "output_type": "execute_result"
    }
   ],
   "source": [
    "actual_symbol_list_modified"
   ]
  },
  {
   "cell_type": "code",
   "execution_count": 8,
   "metadata": {},
   "outputs": [
    {
     "name": "stdout",
     "output_type": "stream",
     "text": [
      "Error0 DVDV\n"
     ]
    }
   ],
   "source": [
    "mainExcel, stocksNotExisting = gil.updateCompanyOverview(pd.read_excel(\"output.xlsx\"), actual_symbol_list_modified)"
   ]
  },
  {
   "cell_type": "code",
   "execution_count": 9,
   "metadata": {},
   "outputs": [
    {
     "data": {
      "text/html": [
       "<div>\n",
       "<style scoped>\n",
       "    .dataframe tbody tr th:only-of-type {\n",
       "        vertical-align: middle;\n",
       "    }\n",
       "\n",
       "    .dataframe tbody tr th {\n",
       "        vertical-align: top;\n",
       "    }\n",
       "\n",
       "    .dataframe thead th {\n",
       "        text-align: right;\n",
       "    }\n",
       "</style>\n",
       "<table border=\"1\" class=\"dataframe\">\n",
       "  <thead>\n",
       "    <tr style=\"text-align: right;\">\n",
       "      <th></th>\n",
       "      <th>Symbol</th>\n",
       "      <th>AssetType</th>\n",
       "      <th>Name</th>\n",
       "      <th>Description</th>\n",
       "      <th>CIK</th>\n",
       "      <th>Exchange</th>\n",
       "      <th>Currency</th>\n",
       "      <th>Country</th>\n",
       "      <th>Sector</th>\n",
       "      <th>Industry</th>\n",
       "      <th>...</th>\n",
       "      <th>EVToEBITDA</th>\n",
       "      <th>Beta</th>\n",
       "      <th>52WeekHigh</th>\n",
       "      <th>52WeekLow</th>\n",
       "      <th>50DayMovingAverage</th>\n",
       "      <th>200DayMovingAverage</th>\n",
       "      <th>SharesOutstanding</th>\n",
       "      <th>DividendDate</th>\n",
       "      <th>ExDividendDate</th>\n",
       "      <th>Downloaded_at_day</th>\n",
       "    </tr>\n",
       "  </thead>\n",
       "  <tbody>\n",
       "    <tr>\n",
       "      <th>0</th>\n",
       "      <td>A</td>\n",
       "      <td>Common Stock</td>\n",
       "      <td>Agilent Technologies Inc</td>\n",
       "      <td>Agilent Technologies, Inc. is an American anal...</td>\n",
       "      <td>1090872</td>\n",
       "      <td>NYSE</td>\n",
       "      <td>USD</td>\n",
       "      <td>USA</td>\n",
       "      <td>LIFE SCIENCES</td>\n",
       "      <td>INSTRUMENTS FOR MEAS &amp; TESTING OF ELECTRICITY ...</td>\n",
       "      <td>...</td>\n",
       "      <td>24.88</td>\n",
       "      <td>1.049</td>\n",
       "      <td>155.06</td>\n",
       "      <td>96.3</td>\n",
       "      <td>137.57</td>\n",
       "      <td>131.26</td>\n",
       "      <td>291761000</td>\n",
       "      <td>2024-07-24</td>\n",
       "      <td>2024-07-02</td>\n",
       "      <td>2024-07-14 17:46:49.167139</td>\n",
       "    </tr>\n",
       "    <tr>\n",
       "      <th>1</th>\n",
       "      <td>AA</td>\n",
       "      <td>Common Stock</td>\n",
       "      <td>Alcoa Corp</td>\n",
       "      <td>Alcoa Corporation produces and sells bauxite, ...</td>\n",
       "      <td>1675149</td>\n",
       "      <td>NYSE</td>\n",
       "      <td>USD</td>\n",
       "      <td>USA</td>\n",
       "      <td>MANUFACTURING</td>\n",
       "      <td>PRIMARY PRODUCTION OF ALUMINUM</td>\n",
       "      <td>...</td>\n",
       "      <td>47.04</td>\n",
       "      <td>2.456</td>\n",
       "      <td>45.48</td>\n",
       "      <td>22.83</td>\n",
       "      <td>40.16</td>\n",
       "      <td>32.0</td>\n",
       "      <td>179561000</td>\n",
       "      <td>2024-06-07</td>\n",
       "      <td>2024-05-20</td>\n",
       "      <td>2024-07-14 17:47:07.584133</td>\n",
       "    </tr>\n",
       "  </tbody>\n",
       "</table>\n",
       "<p>2 rows × 52 columns</p>\n",
       "</div>"
      ],
      "text/plain": [
       "  Symbol     AssetType                      Name  \\\n",
       "0      A  Common Stock  Agilent Technologies Inc   \n",
       "1     AA  Common Stock                Alcoa Corp   \n",
       "\n",
       "                                         Description      CIK Exchange  \\\n",
       "0  Agilent Technologies, Inc. is an American anal...  1090872     NYSE   \n",
       "1  Alcoa Corporation produces and sells bauxite, ...  1675149     NYSE   \n",
       "\n",
       "  Currency Country         Sector  \\\n",
       "0      USD     USA  LIFE SCIENCES   \n",
       "1      USD     USA  MANUFACTURING   \n",
       "\n",
       "                                            Industry  ... EVToEBITDA   Beta  \\\n",
       "0  INSTRUMENTS FOR MEAS & TESTING OF ELECTRICITY ...  ...      24.88  1.049   \n",
       "1                     PRIMARY PRODUCTION OF ALUMINUM  ...      47.04  2.456   \n",
       "\n",
       "  52WeekHigh 52WeekLow 50DayMovingAverage 200DayMovingAverage  \\\n",
       "0     155.06      96.3             137.57              131.26   \n",
       "1      45.48     22.83              40.16                32.0   \n",
       "\n",
       "  SharesOutstanding DividendDate ExDividendDate          Downloaded_at_day  \n",
       "0         291761000   2024-07-24     2024-07-02 2024-07-14 17:46:49.167139  \n",
       "1         179561000   2024-06-07     2024-05-20 2024-07-14 17:47:07.584133  \n",
       "\n",
       "[2 rows x 52 columns]"
      ]
     },
     "execution_count": 9,
     "metadata": {},
     "output_type": "execute_result"
    }
   ],
   "source": [
    "mainExcel\n"
   ]
  },
  {
   "cell_type": "code",
   "execution_count": 10,
   "metadata": {},
   "outputs": [
    {
     "data": {
      "text/plain": [
       "['AA', 'DVDV']"
      ]
     },
     "execution_count": 10,
     "metadata": {},
     "output_type": "execute_result"
    }
   ],
   "source": [
    "stocksNotExisting"
   ]
  },
  {
   "cell_type": "code",
   "execution_count": 5,
   "metadata": {},
   "outputs": [
    {
     "data": {
      "text/plain": [
       "[]"
      ]
     },
     "execution_count": 5,
     "metadata": {},
     "output_type": "execute_result"
    }
   ],
   "source": [
    "gil.updateCompanyOverview([\"MSFT\"])"
   ]
  },
  {
   "cell_type": "code",
   "execution_count": 2,
   "metadata": {},
   "outputs": [],
   "source": [
    "gil.insertFirstRowColumnNames()"
   ]
  },
  {
   "cell_type": "code",
   "execution_count": 4,
   "metadata": {},
   "outputs": [],
   "source": [
    "def update_first_row():\n",
    "    columns = FundamentalDataAPIPull.get_company_overview(\"MSFT\")[0].columns\n",
    "    \n",
    "    df = pd.DataFrame(columns=[columns])\n",
    "    df.to_excel(\"output.xlsx\", sheet_name=\"Overview\")"
   ]
  },
  {
   "cell_type": "code",
   "execution_count": 4,
   "metadata": {},
   "outputs": [],
   "source": [
    "columns = FundamentalDataAPIPull.get_company_overview(\"MSFT\")[0].columns.to_list()"
   ]
  },
  {
   "cell_type": "code",
   "execution_count": 5,
   "metadata": {},
   "outputs": [
    {
     "data": {
      "text/plain": [
       "['Symbol',\n",
       " 'AssetType',\n",
       " 'Name',\n",
       " 'Description',\n",
       " 'CIK',\n",
       " 'Exchange',\n",
       " 'Currency',\n",
       " 'Country',\n",
       " 'Sector',\n",
       " 'Industry',\n",
       " 'Address',\n",
       " 'FiscalYearEnd',\n",
       " 'LatestQuarter',\n",
       " 'MarketCapitalization',\n",
       " 'EBITDA',\n",
       " 'PERatio',\n",
       " 'PEGRatio',\n",
       " 'BookValue',\n",
       " 'DividendPerShare',\n",
       " 'DividendYield',\n",
       " 'EPS',\n",
       " 'RevenuePerShareTTM',\n",
       " 'ProfitMargin',\n",
       " 'OperatingMarginTTM',\n",
       " 'ReturnOnAssetsTTM',\n",
       " 'ReturnOnEquityTTM',\n",
       " 'RevenueTTM',\n",
       " 'GrossProfitTTM',\n",
       " 'DilutedEPSTTM',\n",
       " 'QuarterlyEarningsGrowthYOY',\n",
       " 'QuarterlyRevenueGrowthYOY',\n",
       " 'AnalystTargetPrice',\n",
       " 'AnalystRatingStrongBuy',\n",
       " 'AnalystRatingBuy',\n",
       " 'AnalystRatingHold',\n",
       " 'AnalystRatingSell',\n",
       " 'AnalystRatingStrongSell',\n",
       " 'TrailingPE',\n",
       " 'ForwardPE',\n",
       " 'PriceToSalesRatioTTM',\n",
       " 'PriceToBookRatio',\n",
       " 'EVToRevenue',\n",
       " 'EVToEBITDA',\n",
       " 'Beta',\n",
       " '52WeekHigh',\n",
       " '52WeekLow',\n",
       " '50DayMovingAverage',\n",
       " '200DayMovingAverage',\n",
       " 'SharesOutstanding',\n",
       " 'DividendDate',\n",
       " 'ExDividendDate']"
      ]
     },
     "execution_count": 5,
     "metadata": {},
     "output_type": "execute_result"
    }
   ],
   "source": [
    "columns"
   ]
  },
  {
   "cell_type": "code",
   "execution_count": 6,
   "metadata": {},
   "outputs": [],
   "source": [
    "df = pd.DataFrame(columns=[columns])"
   ]
  },
  {
   "cell_type": "code",
   "execution_count": 7,
   "metadata": {},
   "outputs": [
    {
     "data": {
      "text/html": [
       "<div>\n",
       "<style scoped>\n",
       "    .dataframe tbody tr th:only-of-type {\n",
       "        vertical-align: middle;\n",
       "    }\n",
       "\n",
       "    .dataframe tbody tr th {\n",
       "        vertical-align: top;\n",
       "    }\n",
       "\n",
       "    .dataframe thead tr th {\n",
       "        text-align: left;\n",
       "    }\n",
       "</style>\n",
       "<table border=\"1\" class=\"dataframe\">\n",
       "  <thead>\n",
       "    <tr>\n",
       "      <th></th>\n",
       "      <th>Symbol</th>\n",
       "      <th>AssetType</th>\n",
       "      <th>Name</th>\n",
       "      <th>Description</th>\n",
       "      <th>CIK</th>\n",
       "      <th>Exchange</th>\n",
       "      <th>Currency</th>\n",
       "      <th>Country</th>\n",
       "      <th>Sector</th>\n",
       "      <th>Industry</th>\n",
       "      <th>...</th>\n",
       "      <th>EVToRevenue</th>\n",
       "      <th>EVToEBITDA</th>\n",
       "      <th>Beta</th>\n",
       "      <th>52WeekHigh</th>\n",
       "      <th>52WeekLow</th>\n",
       "      <th>50DayMovingAverage</th>\n",
       "      <th>200DayMovingAverage</th>\n",
       "      <th>SharesOutstanding</th>\n",
       "      <th>DividendDate</th>\n",
       "      <th>ExDividendDate</th>\n",
       "    </tr>\n",
       "  </thead>\n",
       "  <tbody>\n",
       "  </tbody>\n",
       "</table>\n",
       "<p>0 rows × 51 columns</p>\n",
       "</div>"
      ],
      "text/plain": [
       "Empty DataFrame\n",
       "Columns: [(Symbol,), (AssetType,), (Name,), (Description,), (CIK,), (Exchange,), (Currency,), (Country,), (Sector,), (Industry,), (Address,), (FiscalYearEnd,), (LatestQuarter,), (MarketCapitalization,), (EBITDA,), (PERatio,), (PEGRatio,), (BookValue,), (DividendPerShare,), (DividendYield,), (EPS,), (RevenuePerShareTTM,), (ProfitMargin,), (OperatingMarginTTM,), (ReturnOnAssetsTTM,), (ReturnOnEquityTTM,), (RevenueTTM,), (GrossProfitTTM,), (DilutedEPSTTM,), (QuarterlyEarningsGrowthYOY,), (QuarterlyRevenueGrowthYOY,), (AnalystTargetPrice,), (AnalystRatingStrongBuy,), (AnalystRatingBuy,), (AnalystRatingHold,), (AnalystRatingSell,), (AnalystRatingStrongSell,), (TrailingPE,), (ForwardPE,), (PriceToSalesRatioTTM,), (PriceToBookRatio,), (EVToRevenue,), (EVToEBITDA,), (Beta,), (52WeekHigh,), (52WeekLow,), (50DayMovingAverage,), (200DayMovingAverage,), (SharesOutstanding,), (DividendDate,), (ExDividendDate,)]\n",
       "Index: []\n",
       "\n",
       "[0 rows x 51 columns]"
      ]
     },
     "execution_count": 7,
     "metadata": {},
     "output_type": "execute_result"
    }
   ],
   "source": [
    "df"
   ]
  },
  {
   "cell_type": "code",
   "execution_count": 5,
   "metadata": {},
   "outputs": [],
   "source": [
    "\n",
    "columns = columns.to_list()"
   ]
  },
  {
   "cell_type": "code",
   "execution_count": 6,
   "metadata": {},
   "outputs": [
    {
     "data": {
      "text/plain": [
       "['Symbol',\n",
       " 'AssetType',\n",
       " 'Name',\n",
       " 'Description',\n",
       " 'CIK',\n",
       " 'Exchange',\n",
       " 'Currency',\n",
       " 'Country',\n",
       " 'Sector',\n",
       " 'Industry',\n",
       " 'Address',\n",
       " 'FiscalYearEnd',\n",
       " 'LatestQuarter',\n",
       " 'MarketCapitalization',\n",
       " 'EBITDA',\n",
       " 'PERatio',\n",
       " 'PEGRatio',\n",
       " 'BookValue',\n",
       " 'DividendPerShare',\n",
       " 'DividendYield',\n",
       " 'EPS',\n",
       " 'RevenuePerShareTTM',\n",
       " 'ProfitMargin',\n",
       " 'OperatingMarginTTM',\n",
       " 'ReturnOnAssetsTTM',\n",
       " 'ReturnOnEquityTTM',\n",
       " 'RevenueTTM',\n",
       " 'GrossProfitTTM',\n",
       " 'DilutedEPSTTM',\n",
       " 'QuarterlyEarningsGrowthYOY',\n",
       " 'QuarterlyRevenueGrowthYOY',\n",
       " 'AnalystTargetPrice',\n",
       " 'AnalystRatingStrongBuy',\n",
       " 'AnalystRatingBuy',\n",
       " 'AnalystRatingHold',\n",
       " 'AnalystRatingSell',\n",
       " 'AnalystRatingStrongSell',\n",
       " 'TrailingPE',\n",
       " 'ForwardPE',\n",
       " 'PriceToSalesRatioTTM',\n",
       " 'PriceToBookRatio',\n",
       " 'EVToRevenue',\n",
       " 'EVToEBITDA',\n",
       " 'Beta',\n",
       " '52WeekHigh',\n",
       " '52WeekLow',\n",
       " '50DayMovingAverage',\n",
       " '200DayMovingAverage',\n",
       " 'SharesOutstanding',\n",
       " 'DividendDate',\n",
       " 'ExDividendDate']"
      ]
     },
     "execution_count": 6,
     "metadata": {},
     "output_type": "execute_result"
    }
   ],
   "source": [
    "columns"
   ]
  },
  {
   "cell_type": "code",
   "execution_count": 7,
   "metadata": {},
   "outputs": [],
   "source": [
    " df = pd.DataFrame(columns=[columns])"
   ]
  },
  {
   "cell_type": "code",
   "execution_count": 8,
   "metadata": {},
   "outputs": [
    {
     "data": {
      "text/html": [
       "<div>\n",
       "<style scoped>\n",
       "    .dataframe tbody tr th:only-of-type {\n",
       "        vertical-align: middle;\n",
       "    }\n",
       "\n",
       "    .dataframe tbody tr th {\n",
       "        vertical-align: top;\n",
       "    }\n",
       "\n",
       "    .dataframe thead tr th {\n",
       "        text-align: left;\n",
       "    }\n",
       "</style>\n",
       "<table border=\"1\" class=\"dataframe\">\n",
       "  <thead>\n",
       "    <tr>\n",
       "      <th></th>\n",
       "      <th>Symbol</th>\n",
       "      <th>AssetType</th>\n",
       "      <th>Name</th>\n",
       "      <th>Description</th>\n",
       "      <th>CIK</th>\n",
       "      <th>Exchange</th>\n",
       "      <th>Currency</th>\n",
       "      <th>Country</th>\n",
       "      <th>Sector</th>\n",
       "      <th>Industry</th>\n",
       "      <th>...</th>\n",
       "      <th>EVToRevenue</th>\n",
       "      <th>EVToEBITDA</th>\n",
       "      <th>Beta</th>\n",
       "      <th>52WeekHigh</th>\n",
       "      <th>52WeekLow</th>\n",
       "      <th>50DayMovingAverage</th>\n",
       "      <th>200DayMovingAverage</th>\n",
       "      <th>SharesOutstanding</th>\n",
       "      <th>DividendDate</th>\n",
       "      <th>ExDividendDate</th>\n",
       "    </tr>\n",
       "  </thead>\n",
       "  <tbody>\n",
       "  </tbody>\n",
       "</table>\n",
       "<p>0 rows × 51 columns</p>\n",
       "</div>"
      ],
      "text/plain": [
       "Empty DataFrame\n",
       "Columns: [(Symbol,), (AssetType,), (Name,), (Description,), (CIK,), (Exchange,), (Currency,), (Country,), (Sector,), (Industry,), (Address,), (FiscalYearEnd,), (LatestQuarter,), (MarketCapitalization,), (EBITDA,), (PERatio,), (PEGRatio,), (BookValue,), (DividendPerShare,), (DividendYield,), (EPS,), (RevenuePerShareTTM,), (ProfitMargin,), (OperatingMarginTTM,), (ReturnOnAssetsTTM,), (ReturnOnEquityTTM,), (RevenueTTM,), (GrossProfitTTM,), (DilutedEPSTTM,), (QuarterlyEarningsGrowthYOY,), (QuarterlyRevenueGrowthYOY,), (AnalystTargetPrice,), (AnalystRatingStrongBuy,), (AnalystRatingBuy,), (AnalystRatingHold,), (AnalystRatingSell,), (AnalystRatingStrongSell,), (TrailingPE,), (ForwardPE,), (PriceToSalesRatioTTM,), (PriceToBookRatio,), (EVToRevenue,), (EVToEBITDA,), (Beta,), (52WeekHigh,), (52WeekLow,), (50DayMovingAverage,), (200DayMovingAverage,), (SharesOutstanding,), (DividendDate,), (ExDividendDate,)]\n",
       "Index: []\n",
       "\n",
       "[0 rows x 51 columns]"
      ]
     },
     "execution_count": 8,
     "metadata": {},
     "output_type": "execute_result"
    }
   ],
   "source": [
    "df"
   ]
  },
  {
   "cell_type": "code",
   "execution_count": null,
   "metadata": {},
   "outputs": [],
   "source": []
  }
 ],
 "metadata": {
  "kernelspec": {
   "display_name": "Python 3",
   "language": "python",
   "name": "python3"
  },
  "language_info": {
   "codemirror_mode": {
    "name": "ipython",
    "version": 3
   },
   "file_extension": ".py",
   "mimetype": "text/x-python",
   "name": "python",
   "nbconvert_exporter": "python",
   "pygments_lexer": "ipython3",
   "version": "3.12.4"
  }
 },
 "nbformat": 4,
 "nbformat_minor": 2
}
