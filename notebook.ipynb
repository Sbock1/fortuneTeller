{
 "cells": [
  {
   "cell_type": "code",
   "execution_count": 2,
   "metadata": {},
   "outputs": [
    {
     "ename": "NameError",
     "evalue": "name 'TimeSeries' is not defined",
     "output_type": "error",
     "traceback": [
      "\u001b[1;31m---------------------------------------------------------------------------\u001b[0m",
      "\u001b[1;31mNameError\u001b[0m                                 Traceback (most recent call last)",
      "Cell \u001b[1;32mIn[2], line 11\u001b[0m\n\u001b[0;32m      9\u001b[0m time_delay \u001b[38;5;241m=\u001b[39m \u001b[38;5;241m1\u001b[39m \u001b[38;5;66;03m#Can only laod on dataset per 18 seconds\u001b[39;00m\n\u001b[0;32m     10\u001b[0m FundamentalDataAPIPull \u001b[38;5;241m=\u001b[39m FundamentalData(API_key,output_format\u001b[38;5;241m=\u001b[39m\u001b[38;5;124m'\u001b[39m\u001b[38;5;124mpandas\u001b[39m\u001b[38;5;124m'\u001b[39m)\n\u001b[1;32m---> 11\u001b[0m TimeSeriesPull \u001b[38;5;241m=\u001b[39m \u001b[43mTimeSeries\u001b[49m(key\u001b[38;5;241m=\u001b[39mAPI_key, output_format\u001b[38;5;241m=\u001b[39m\u001b[38;5;124m\"\u001b[39m\u001b[38;5;124mpandas\u001b[39m\u001b[38;5;124m\"\u001b[39m)\n\u001b[0;32m     12\u001b[0m \u001b[38;5;66;03m# IMPORTANT:\u001b[39;00m\n\u001b[0;32m     13\u001b[0m \u001b[38;5;66;03m# The AlphaVantage API documentation can be found here:\u001b[39;00m\n\u001b[0;32m     14\u001b[0m \u001b[38;5;66;03m# https://www.alphavantage.co/documentation/\u001b[39;00m\n\u001b[0;32m     15\u001b[0m \u001b[38;5;66;03m##################################################################\u001b[39;00m\n",
      "\u001b[1;31mNameError\u001b[0m: name 'TimeSeries' is not defined"
     ]
    }
   ],
   "source": [
    "import get_information_lib as gil\n",
    "from alpha_vantage.fundamentaldata import FundamentalData\n",
    "from alpha_vantage.timeseries import TimeSeries\n",
    "import pandas as pd\n",
    "import time\n",
    "\n",
    "################################################################## \n",
    "# Global variables based on API requirements\n",
    "API_key=\"HNNMDBOG55BREC5P\" #Account API key to validate access\n",
    "time_delay = 1 #Can only laod on dataset per 18 seconds\n",
    "FundamentalDataAPIPull = FundamentalData(API_key,output_format='pandas')\n",
    "TimeSeriesPull = TimeSeries(key=API_key, output_format=\"pandas\")\n",
    "# IMPORTANT:\n",
    "# The AlphaVantage API documentation can be found here:\n",
    "# https://www.alphavantage.co/documentation/\n",
    "##################################################################\n"
   ]
  },
  {
   "cell_type": "code",
   "execution_count": 2,
   "metadata": {},
   "outputs": [],
   "source": [
    "dailySeriesPerStock = TimeSeriesPull.get_daily(stock, outputsize=\"full\")[0]"
   ]
  },
  {
   "cell_type": "code",
   "execution_count": 11,
   "metadata": {},
   "outputs": [],
   "source": [
    "symbol = \"MSFT\"\n",
    "\n",
    "symbolsToUpdate = [symbol]\n"
   ]
  },
  {
   "cell_type": "code",
   "execution_count": 1,
   "metadata": {},
   "outputs": [],
   "source": [
    "stock = \"AAPL\""
   ]
  },
  {
   "cell_type": "code",
   "execution_count": 2,
   "metadata": {},
   "outputs": [],
   "source": [
    "list1 = [\"MSFT\", \"AAPL\"]"
   ]
  },
  {
   "cell_type": "code",
   "execution_count": null,
   "metadata": {},
   "outputs": [],
   "source": [
    "list_go = [symbol for symbol in list1 if symbol in stock]"
   ]
  }
 ],
 "metadata": {
  "kernelspec": {
   "display_name": "Python 3",
   "language": "python",
   "name": "python3"
  },
  "language_info": {
   "codemirror_mode": {
    "name": "ipython",
    "version": 3
   },
   "file_extension": ".py",
   "mimetype": "text/x-python",
   "name": "python",
   "nbconvert_exporter": "python",
   "pygments_lexer": "ipython3",
   "version": "3.12.4"
  }
 },
 "nbformat": 4,
 "nbformat_minor": 2
}
